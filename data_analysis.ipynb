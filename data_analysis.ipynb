{
 "cells": [
  {
   "cell_type": "code",
   "execution_count": null,
   "metadata": {},
   "outputs": [],
   "source": [
    "import pandas as pd \n",
    "import numpy as np\n",
    "import matplotlib.pyplot as plt"
   ]
  },
  {
   "cell_type": "markdown",
   "metadata": {},
   "source": [
    "## Suicide data compared with year, age, HDI, gdp"
   ]
  },
  {
   "cell_type": "code",
   "execution_count": 1,
   "metadata": {},
   "outputs": [
    {
     "ename": "NameError",
     "evalue": "name 'suicide_data' is not defined",
     "output_type": "error",
     "traceback": [
      "\u001b[1;31m---------------------------------------------------------------------------\u001b[0m",
      "\u001b[1;31mNameError\u001b[0m                                 Traceback (most recent call last)",
      "\u001b[1;32m<ipython-input-1-0914bde08974>\u001b[0m in \u001b[0;36m<module>\u001b[1;34m\u001b[0m\n\u001b[0;32m      1\u001b[0m \u001b[1;31m# compared with year\u001b[0m\u001b[1;33m\u001b[0m\u001b[1;33m\u001b[0m\u001b[1;33m\u001b[0m\u001b[0m\n\u001b[1;32m----> 2\u001b[1;33m \u001b[0mtemp\u001b[0m \u001b[1;33m=\u001b[0m \u001b[0msuicide_data\u001b[0m\u001b[1;33m[\u001b[0m\u001b[1;33m[\u001b[0m\u001b[1;34m'year'\u001b[0m\u001b[1;33m,\u001b[0m\u001b[1;34m'suicides'\u001b[0m\u001b[1;33m]\u001b[0m\u001b[1;33m]\u001b[0m\u001b[1;33m\u001b[0m\u001b[1;33m\u001b[0m\u001b[0m\n\u001b[0m\u001b[0;32m      3\u001b[0m \u001b[0mper_year\u001b[0m \u001b[1;33m=\u001b[0m \u001b[1;33m[\u001b[0m\u001b[1;33m]\u001b[0m\u001b[1;33m\u001b[0m\u001b[1;33m\u001b[0m\u001b[0m\n\u001b[0;32m      4\u001b[0m \u001b[1;32mfor\u001b[0m \u001b[0mi\u001b[0m \u001b[1;32min\u001b[0m \u001b[0mrange\u001b[0m\u001b[1;33m(\u001b[0m\u001b[1;36m32\u001b[0m\u001b[1;33m)\u001b[0m\u001b[1;33m:\u001b[0m\u001b[1;33m\u001b[0m\u001b[1;33m\u001b[0m\u001b[0m\n\u001b[0;32m      5\u001b[0m     \u001b[0mper_year\u001b[0m\u001b[1;33m.\u001b[0m\u001b[0mappend\u001b[0m\u001b[1;33m(\u001b[0m\u001b[1;36m0\u001b[0m\u001b[1;33m)\u001b[0m\u001b[1;33m\u001b[0m\u001b[1;33m\u001b[0m\u001b[0m\n",
      "\u001b[1;31mNameError\u001b[0m: name 'suicide_data' is not defined"
     ]
    }
   ],
   "source": [
    "# compared with year\n",
    "temp = suicide_data[['year','suicides']]\n",
    "per_year = []\n",
    "for i in range(32):\n",
    "    per_year.append(0)\n",
    "for i in range(27820):\n",
    "    per_year[suicide_data['year'][i]-1987]+=suicide_data['suicides'][i]\n",
    "num_suicides = pd.Series(per_year,name='suicides')\n",
    "year_s = pd.Series(year_list,name='year')\n",
    "suicide_year= pd.concat([year_s,num_suicides],axis=1)\n",
    "suicide_year=suicide_year.set_index('year')"
   ]
  },
  {
   "cell_type": "code",
   "execution_count": null,
   "metadata": {},
   "outputs": [],
   "source": [
    "fig, ax = plt.subplots()\n",
    "\n",
    "suicide_year.suicides.plot(ax = ax, color = 'r', linewidth = 3.0) \n",
    "\n",
    "# HERE I'm changing the color and the thickness of the line...\n",
    "\n",
    "ax.set_title(\"Year vs. Suicides\", fontsize = 14, fontweight = \"bold\") # Sets the title\n",
    "ax.set_ylabel(\"Annual Global Suicides\", fontsize = 14,) # The ylable\n",
    "ax.set_xlabel(\"Year\", fontsize = 14,) # the xlable\n",
    "\n",
    "ax.set_ylim(-10,10) # This sets the y-limits\n",
    "\n",
    "ax.legend([\"Global Suicides\"],frameon=True) # The legend, without a box...\n",
    "\n",
    "ax.set_ylim(0,300000)\n",
    "ax.set_xlim(1985,2016) \n",
    "\n",
    "ax.spines[\"right\"].set_visible(False) # This removes the ``spines'', just the right and top\n",
    "ax.spines[\"top\"].set_visible(False) # ones...\n",
    "\n",
    "plt.show()"
   ]
  },
  {
   "cell_type": "code",
   "execution_count": null,
   "metadata": {},
   "outputs": [],
   "source": [
    "# compared with age\n",
    "temp = suicide_data[['age','suicides']]\n",
    "suicide_age = [0,0,0,0,0]\n",
    "for i in range(27820):\n",
    "    if suicide_data['age'][i] == '5-14 years':\n",
    "        suicide_age[0]+= suicide_data['suicides'][i]\n",
    "    elif suicide_data['age'][i] == '15-24 years':\n",
    "        suicide_age[1]+= suicide_data['suicides'][i]\n",
    "    elif suicide_data['age'][i] == '35-54 years':\n",
    "        suicide_age[2]+= suicide_data['suicides'][i]\n",
    "    if suicide_data['age'][i] == '55-74 years':\n",
    "        suicide_age[3]+= suicide_data['suicides'][i]\n",
    "    else:\n",
    "        suicide_age[4]+= suicide_data['suicides'][i]\n",
    "        \n",
    "sum_num = suicide_age[0]+suicide_age[1]+suicide_age[2]+suicide_age[3]+suicide_age[4]\n",
    "suicide_age\n",
    "percent_list = [] \n",
    "year_range = ['5-14 years','15-24 years','35-54 years', '55-74 years','75+ years']\n",
    "for i in range(5):\n",
    "    percent_list.append(suicide_age[i]/sum_num*100)"
   ]
  },
  {
   "cell_type": "code",
   "execution_count": null,
   "metadata": {},
   "outputs": [],
   "source": [
    "fig, ax = plt.subplots(figsize=(6, 4), subplot_kw=dict(aspect=\"equal\"))\n",
    "\n",
    "recipe = ['5-14 years','15-24 years','35-54 years', '55-74 years','75+ years']\n",
    "\n",
    "wedges, texts = ax.pie(percent_list, wedgeprops=dict(width=0.5), startangle=-40)\n",
    "\n",
    "bbox_props = dict(boxstyle=\"square,pad=0.3\", fc=\"w\", ec=\"k\", lw=0.72)\n",
    "kw = dict(arrowprops=dict(arrowstyle=\"-\"),\n",
    "          bbox=bbox_props, zorder=0, va=\"center\")\n",
    "\n",
    "for i, p in enumerate(wedges):\n",
    "    ang = (p.theta2 - p.theta1)/2. + p.theta1\n",
    "    y = np.sin(np.deg2rad(ang))\n",
    "    x = np.cos(np.deg2rad(ang))\n",
    "    horizontalalignment = {-1: \"right\", 1: \"left\"}[int(np.sign(x))]\n",
    "    connectionstyle = \"angle,angleA=0,angleB={}\".format(ang)\n",
    "    kw[\"arrowprops\"].update({\"connectionstyle\": connectionstyle})\n",
    "    ax.annotate(recipe[i], xy=(x, y), xytext=(1.35*np.sign(x), 1.4*y),\n",
    "                horizontalalignment=horizontalalignment, **kw)\n",
    "\n",
    "ax.set_title(\"Suicides by Age Groups\")\n",
    "\n",
    "plt.show()"
   ]
  }
 ],
 "metadata": {
  "kernelspec": {
   "display_name": "Python 3",
   "language": "python",
   "name": "python3"
  },
  "language_info": {
   "codemirror_mode": {
    "name": "ipython",
    "version": 3
   },
   "file_extension": ".py",
   "mimetype": "text/x-python",
   "name": "python",
   "nbconvert_exporter": "python",
   "pygments_lexer": "ipython3",
   "version": "3.7.3"
  }
 },
 "nbformat": 4,
 "nbformat_minor": 2
}
