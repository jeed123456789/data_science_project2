{
 "cells": [
  {
   "cell_type": "code",
   "execution_count": 1,
   "metadata": {},
   "outputs": [],
   "source": [
    "import pandas as pd \n",
    "import numpy as np"
   ]
  },
  {
   "cell_type": "markdown",
   "metadata": {},
   "source": [
    "## Reading dataset  for suicide rates"
   ]
  },
  {
   "cell_type": "code",
   "execution_count": 2,
   "metadata": {},
   "outputs": [],
   "source": [
    "suicide_data = pd.read_csv(\"dataset/suicide.csv\")"
   ]
  },
  {
   "cell_type": "code",
   "execution_count": 3,
   "metadata": {},
   "outputs": [],
   "source": [
    "year_list = []\n",
    "for i in suicide_data.year:\n",
    "    if year_list.count(i) == 0:\n",
    "        year_list.append(i)\n",
    "year_list.sort()\n",
    "#1985 - 2016"
   ]
  },
  {
   "cell_type": "code",
   "execution_count": 4,
   "metadata": {},
   "outputs": [],
   "source": [
    "drop = ['generation','suicides/100k pop','country-year']\n",
    "suicide_data = suicide_data.drop(drop, axis = 1)\n",
    "suicide_data = suicide_data.rename(columns = {'suicides_no':'suicides','HDI for year': 'HDI_for_year',' gdp_for_year ($) ': 'gdp_for_year','gdp_per_capita ($)':'gdp_per_capita'})"
   ]
  },
  {
   "cell_type": "markdown",
   "metadata": {},
   "source": [
    "## Reading datasets on  happiness levels "
   ]
  },
  {
   "cell_type": "code",
   "execution_count": 5,
   "metadata": {},
   "outputs": [],
   "source": [
    "happy_data1 = pd.read_csv(\"dataset/happy_data1.csv\")\n",
    "happy_data2 = pd.read_csv(\"dataset/happy_data2.csv\")\n",
    "happy_data3 = pd.read_csv(\"dataset/happy_data3.csv\")\n",
    "happy_data4 = pd.read_csv(\"dataset/happy_data4.csv\")\n",
    "happy_data5 = pd.read_csv(\"dataset/happy_data5.csv\")"
   ]
  },
  {
   "cell_type": "code",
   "execution_count": 6,
   "metadata": {},
   "outputs": [],
   "source": [
    "happy_data1['year'] = 2015\n",
    "happy_data2['year'] = 2016\n",
    "happy_data3['year'] = 2017\n",
    "happy_data4['year'] = 2018\n",
    "happy_data5['year'] = 2019"
   ]
  },
  {
   "cell_type": "code",
   "execution_count": 7,
   "metadata": {},
   "outputs": [],
   "source": [
    "drop1 = ['Happiness Rank','Standard Error','Region','Dystopia Residual','Generosity']\n",
    "happy_data1 = happy_data1.drop(drop1,axis = 1)\n",
    "happy_data1 = happy_data1.rename(columns =  {'Happiness Score':'Score','Economy (GDP per Capita)':'Economy','Health (Life Expectancy)':'Health','Trust (Government Corruption)':'Trust'})\n",
    "\n",
    "happy_data1.to_csv('dataset\\happy_data1_modified.csv')"
   ]
  },
  {
   "cell_type": "code",
   "execution_count": 8,
   "metadata": {},
   "outputs": [],
   "source": [
    "drop2 = ['Happiness Rank','Lower Confidence Interval','Upper Confidence Interval','Region','Dystopia Residual','Generosity']\n",
    "happy_data2 = happy_data2.drop(drop2,axis = 1)\n",
    "happy_data2 = happy_data2.rename(columns =  {'Happiness Score':'Score','Economy (GDP per Capita)':'Economy','Health (Life Expectancy)':'Health','Trust (Government Corruption)':'Trust'})\n",
    "\n",
    "happy_data2.to_csv('dataset\\happy_data2_modified.csv')"
   ]
  },
  {
   "cell_type": "code",
   "execution_count": 9,
   "metadata": {},
   "outputs": [],
   "source": [
    "drop3 = ['Happiness.Rank','Whisker.high','Whisker.low','Dystopia.Residual','Generosity']\n",
    "happy_data3 = happy_data3.drop(drop3,axis = 1)\n",
    "happy_data3 = happy_data3.rename(columns =  {'Happiness.Score':'Score','Economy..GDP.per.Capita.':'Economy','Health..Life.Expectancy.':'Health','Trust..Government.Corruption.':'Trust'})\n",
    "\n",
    "happy_data3.to_csv('dataset\\happy_data3_modified.csv')"
   ]
  },
  {
   "cell_type": "code",
   "execution_count": 10,
   "metadata": {},
   "outputs": [],
   "source": [
    "drop4 = ['Rank','Residual','Generosity']\n",
    "happy_data4 = happy_data4.drop(drop4,axis = 1)\n",
    "happy_data4 = happy_data4.rename(columns =  {'GDP_Per_Capita':'Economy','Healthy_Life_Expectancy':'Health','Perceptions_Of_Corruption':'Trust','Freedom_To_Make_Life_Choices':'Freedom','Social_Support':'Family'})\n",
    "\n",
    "happy_data4.to_csv('dataset\\happy_data4_modified.csv')"
   ]
  },
  {
   "cell_type": "code",
   "execution_count": 11,
   "metadata": {},
   "outputs": [],
   "source": [
    "drop5 = ['SD of Ladder','Positive affect','Negative affect','Generosity']\n",
    "happy_data5 = happy_data5.drop(drop5,axis = 1)\n",
    "happy_data5 = happy_data5.rename(columns =  {'Country (region)':'Country','Ladder':'Score','Social support':'Family','Corruption':'Trust','Healthy life\\nexpectancy':'Health','Log of GDP\\nper capita':'Economy'})\n",
    "\n",
    "happy_data5.to_csv('dataset\\happy_data5_modified.csv')"
   ]
  },
  {
   "cell_type": "code",
   "execution_count": null,
   "metadata": {},
   "outputs": [],
   "source": []
  }
 ],
 "metadata": {
  "kernelspec": {
   "display_name": "Python 3",
   "language": "python",
   "name": "python3"
  },
  "language_info": {
   "codemirror_mode": {
    "name": "ipython",
    "version": 3
   },
   "file_extension": ".py",
   "mimetype": "text/x-python",
   "name": "python",
   "nbconvert_exporter": "python",
   "pygments_lexer": "ipython3",
   "version": "3.7.3"
  }
 },
 "nbformat": 4,
 "nbformat_minor": 2
}
