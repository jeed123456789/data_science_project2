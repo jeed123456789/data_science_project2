{
 "cells": [
  {
   "cell_type": "code",
   "execution_count": 41,
   "metadata": {},
   "outputs": [],
   "source": [
    "import pandas as pd \n",
    "import numpy as np"
   ]
  },
  {
   "cell_type": "markdown",
   "metadata": {},
   "source": [
    "## Reading dataset  for suicide rates"
   ]
  },
  {
   "cell_type": "code",
   "execution_count": 44,
   "metadata": {},
   "outputs": [],
   "source": [
    "suicide_data = pd.read_csv(\"dataset/suicide.csv\")"
   ]
  },
  {
   "cell_type": "code",
   "execution_count": 43,
   "metadata": {},
   "outputs": [],
   "source": [
    "year_list = []\n",
    "for i in suicide_data.year:\n",
    "    if year_list.count(i) == 0:\n",
    "        year_list.append(i)\n",
    "year_list.sort()\n",
    "#1985 - 2016"
   ]
  },
  {
   "cell_type": "code",
   "execution_count": 5,
   "metadata": {},
   "outputs": [],
   "source": [
    "drop = ['generation','suicides/100k pop','country-year']\n",
    "suicide_data = suicide_data.drop(drop, axis = 1)\n",
    "suicide_data = suicide_data.rename(columns = {'suicides_no':'suicides','HDI for year': 'HDI_for_year',' gdp_for_year ($) ': 'gdp_for_year','gdp_per_capita ($)':'gdp_per_capita'})"
   ]
  },
  {
   "cell_type": "markdown",
   "metadata": {},
   "source": [
    "## Reading datasets on  happiness levels "
   ]
  },
  {
   "cell_type": "code",
   "execution_count": 59,
   "metadata": {},
   "outputs": [],
   "source": [
    "happy_data1 = pd.read_csv(\"dataset/happy_data1.csv\")\n",
    "happy_data2 = pd.read_csv(\"dataset/happy_data2.csv\")\n",
    "happy_data3 = pd.read_csv(\"dataset/happy_data3.csv\")\n",
    "happy_data4 = pd.read_csv(\"dataset/happy_data4.csv\")\n",
    "happy_data5 = pd.read_csv(\"dataset/happy_data5.csv\")"
   ]
  },
  {
   "cell_type": "code",
   "execution_count": 60,
   "metadata": {},
   "outputs": [],
   "source": [
    "happy_data1['year'] = 2015\n",
    "happy_data2['year'] = 2016\n",
    "happy_data3['year'] = 2017\n",
    "happy_data4['year'] = 2018\n",
    "happy_data5['year'] = 2019"
   ]
  },
  {
   "cell_type": "code",
   "execution_count": 61,
   "metadata": {},
   "outputs": [
    {
     "name": "stdout",
     "output_type": "stream",
     "text": [
      "Index(['Country', 'Region', 'Happiness Rank', 'Happiness Score',\n",
      "       'Standard Error', 'Economy (GDP per Capita)', 'Family',\n",
      "       'Health (Life Expectancy)', 'Freedom', 'Trust (Government Corruption)',\n",
      "       'Generosity', 'Dystopia Residual', 'year'],\n",
      "      dtype='object')\n",
      "Index(['Country', 'Region', 'Happiness Rank', 'Happiness Score',\n",
      "       'Lower Confidence Interval', 'Upper Confidence Interval',\n",
      "       'Economy (GDP per Capita)', 'Family', 'Health (Life Expectancy)',\n",
      "       'Freedom', 'Trust (Government Corruption)', 'Generosity',\n",
      "       'Dystopia Residual', 'year'],\n",
      "      dtype='object')\n",
      "Index(['Country', 'Happiness.Rank', 'Happiness.Score', 'Whisker.high',\n",
      "       'Whisker.low', 'Economy..GDP.per.Capita.', 'Family',\n",
      "       'Health..Life.Expectancy.', 'Freedom', 'Generosity',\n",
      "       'Trust..Government.Corruption.', 'Dystopia.Residual', 'year'],\n",
      "      dtype='object')\n",
      "Index(['Rank', 'Country', 'Score', 'GDP_Per_Capita', 'Social_Support',\n",
      "       'Healthy_Life_Expectancy', 'Freedom_To_Make_Life_Choices', 'Generosity',\n",
      "       'Perceptions_Of_Corruption', 'Residual', 'year'],\n",
      "      dtype='object')\n",
      "Index(['Country (region)', 'Ladder', 'SD of Ladder', 'Positive affect',\n",
      "       'Negative affect', 'Social support', 'Freedom', 'Corruption',\n",
      "       'Generosity', 'Log of GDP\\nper capita', 'Healthy life\\nexpectancy',\n",
      "       'year'],\n",
      "      dtype='object')\n"
     ]
    }
   ],
   "source": [
    "print(happy_data1.columns)\n",
    "print(happy_data2.columns)\n",
    "print(happy_data3.columns)\n",
    "print(happy_data4.columns)\n",
    "print(happy_data5.columns)"
   ]
  },
  {
   "cell_type": "code",
   "execution_count": null,
   "metadata": {},
   "outputs": [],
   "source": []
  }
 ],
 "metadata": {
  "kernelspec": {
   "display_name": "Python 3",
   "language": "python",
   "name": "python3"
  },
  "language_info": {
   "codemirror_mode": {
    "name": "ipython",
    "version": 3
   },
   "file_extension": ".py",
   "mimetype": "text/x-python",
   "name": "python",
   "nbconvert_exporter": "python",
   "pygments_lexer": "ipython3",
   "version": "3.7.3"
  }
 },
 "nbformat": 4,
 "nbformat_minor": 2
}
